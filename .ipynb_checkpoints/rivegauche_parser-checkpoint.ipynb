{
 "cells": [
  {
   "cell_type": "code",
   "execution_count": null,
   "metadata": {},
   "outputs": [],
   "source": [
    "Есть потенциал для дорков\n",
    "\n",
    "https://rivegauche.ru/robots.txt\n",
    "https://rivegauche.ru/sitemap.xml\n",
    "https://api.rivegauche.ru/\n",
    "    \n",
    "    \n",
    "из xml можно составить финальный вариант базы и фиксировать заполненность относительно него\n",
    "а так - заполнять динамически из того, что идет\n",
    "\n",
    "остатки можно добить поиском, но убрав цифры и \"-\"\n",
    "финальный таргет по списку url\n",
    "попадание считается если часть урла без ссылок совпадает"
   ]
  },
  {
   "cell_type": "code",
   "execution_count": null,
   "metadata": {},
   "outputs": [],
   "source": [
    "https://rivegauche.ru/sitemap2.xml - все товары\n",
    "    \n",
    "https://rivegauche.ru/sitemap3.xml - все категории\n",
    "https://rivegauche.ru/sitemap4.xml - все бренды"
   ]
  },
  {
   "cell_type": "code",
   "execution_count": null,
   "metadata": {},
   "outputs": [],
   "source": [
    "На мобильном сайте есть скрипт, который гасит сессию в случае несовпадения сертификатов\n",
    "Работает как мера против проксей, которые расшифровывают https-трафик\n",
    "\n",
    "В приложении защиты нету, перехватил прямой доступ к апишке приложения лол\n",
    "Надо попробовать из приложения выцепить полные списки каталогов с айдишниками\n",
    "Пока прямые урлы не раюотают\n",
    "\n",
    "общий дизайн решения - реверс-инжениринг трафика приложения, сайт\n",
    "при этом не дает расшифровывать ssl-трафик"
   ]
  },
  {
   "cell_type": "code",
   "execution_count": null,
   "metadata": {},
   "outputs": [],
   "source": [
    "https://api.rivegauche.ru/rg/v1/newRG/products/forProductCodes\n",
    "    Запрос в апи по рекомендательной модели, что-то в хидерах\n",
    "    \n",
    "https://api.rivegauche.ru/rg/v1/newRG/products/988889\n",
    "    запрос в апи по конкретному наименованию, полная инфа\n",
    "    \n",
    "https://api.rivegauche.ru/rg/v1/newRG/carts/current/product/988889\n",
    "    упрощенный запрос по конкретному наименованию, есть урл\n",
    "    \n",
    "https://api.rivegauche.ru/rg/v1/newRG/location/cities/city_4400/stores?ifEmptySendAll=true\n",
    "    локации всех магазинов, хз зачем но прикольно\n",
    "    \n",
    "https://api.rivegauche.ru/rg/v1/newRG/products/ac-search?offset=0&size=20&st=%D0%BA%D1%80%D0%B5%D0%BC\n",
    "    поиск по наименованию\n",
    "    \n",
    "https://api.rivegauche.ru/rg/v1/newRG/brands\n",
    "    каталог ВСЕХ брендов\n",
    "\n",
    "https://api.rivegauche.ru/rg/v1/newRG/products/search?brandCode=rg_brand_646&currentPage=0&pageSize=20\n",
    "    каталог товаров по каждому бренду в отдельности\n",
    "    \n",
    "https://api.rivegauche.ru/rg/v1/newRG/catalog\n",
    "    каталог товаров по категориям\n",
    "    \n",
    "https://api.rivegauche.ru/rg/v1/newRG/products/search?categoryCode=Perfumery_Woman&q=%3A&currentPage=0&pageSize=20\n",
    "    каталог товаров по каждой категории по страницам\n",
    "    \n",
    "    \n",
    "    \n",
    "Чисто на всякий случай:\n",
    "https://api.rivegauche.ru/rg/v1/newRG/products/autocomplete?st=%D0%BA%D1%80%D0%B5%D0%BC&brandsSize=4&categoriesSize=4&productsSizeForRender=6&productsSize=6\n",
    "    скрипт автозаполнения\n",
    "    \n",
    "https://api.rivegauche.ru/rg/v1/newRG/carts/current?fields=FULL\n",
    "    данные корзины"
   ]
  },
  {
   "cell_type": "code",
   "execution_count": 1,
   "metadata": {
    "code_folding": [
     0,
     57
    ]
   },
   "outputs": [],
   "source": [
    "def log_progress(sequence, every=None, size=None, name='Items'):\n",
    "    from ipywidgets import IntProgress, HTML, VBox\n",
    "    from IPython.display import display\n",
    "\n",
    "    is_iterator = False\n",
    "    if size is None:\n",
    "        try:\n",
    "            size = len(sequence)\n",
    "        except TypeError:\n",
    "            is_iterator = True\n",
    "    if size is not None:\n",
    "        if every is None:\n",
    "            if size <= 200:\n",
    "                every = 1\n",
    "            else:\n",
    "                #every = int(size / 200)     # every 0.5%\n",
    "                every = 1\n",
    "    else:\n",
    "        assert every is not None, 'sequence is iterator, set every'\n",
    "\n",
    "    if is_iterator:\n",
    "        progress = IntProgress(min=0, max=1, value=1)\n",
    "        progress.bar_style = 'info'\n",
    "    else:\n",
    "        progress = IntProgress(min=0, max=size, value=0)\n",
    "    label = HTML()\n",
    "    box = VBox(children=[label, progress])\n",
    "    display(box)\n",
    "\n",
    "    index = 0\n",
    "    try:\n",
    "        for index, record in enumerate(sequence, 1):\n",
    "            if index == 1 or index % every == 0:\n",
    "                if is_iterator:\n",
    "                    label.value = '{name}: {index} / ?'.format(\n",
    "                        name=name,\n",
    "                        index=index\n",
    "                    )\n",
    "                else:\n",
    "                    progress.value = index\n",
    "                    label.value = u'{name}: {index} / {size}'.format(\n",
    "                        name=name,\n",
    "                        index=index,\n",
    "                        size=size\n",
    "                    )\n",
    "            yield record\n",
    "    except:\n",
    "        progress.bar_style = 'danger'\n",
    "        raise\n",
    "    else:\n",
    "        progress.bar_style = 'success'\n",
    "        progress.value = index\n",
    "        label.value = \"{name}: {index}\".format(\n",
    "            name=name,\n",
    "            index=str(index or '?')\n",
    "        )\n",
    "        \n",
    "def has_numbers(inputString):\n",
    "    return any(char.isdigit() for char in inputString)\n",
    "\n"
   ]
  },
  {
   "cell_type": "code",
   "execution_count": 2,
   "metadata": {},
   "outputs": [
    {
     "name": "stderr",
     "output_type": "stream",
     "text": [
      "B:\\python\\lib\\site-packages\\pandas\\compat\\_optional.py:138: UserWarning: Pandas requires version '2.7.0' or newer of 'numexpr' (version '2.6.9' currently installed).\n",
      "  warnings.warn(msg, UserWarning)\n"
     ]
    },
    {
     "data": {
      "text/plain": [
       "32223"
      ]
     },
     "execution_count": 2,
     "metadata": {},
     "output_type": "execute_result"
    }
   ],
   "source": [
    "import requests\n",
    "import json\n",
    "import pandas as pd \n",
    "import time\n",
    "from datetime import datetime\n",
    "\n",
    "headers = {\n",
    "    'Content-Type': 'application/json', \n",
    "}\n",
    "\n",
    "response = requests.get('https://rivegauche.ru/sitemap2.xml')\n",
    "\n",
    "response\n",
    "\n",
    "parsed_xml_list = response.text.replace('</loc>', '<loc>').split('<loc>')\n",
    "filtered_parsed_list = []\n",
    "\n",
    "for i in parsed_xml_list:\n",
    "    # чекаем чтобы был дефис, чекаем чтобы были цифры, чекаем чтобы не было лишних категорий, чекаем чтобы в мапинге первым элементов была цифра\n",
    "    if 'rivegauche.ru' in i:\n",
    "        filtered_parsed_list.append(i)\n",
    "        \n",
    "len(filtered_parsed_list)"
   ]
  },
  {
   "cell_type": "code",
   "execution_count": 3,
   "metadata": {},
   "outputs": [],
   "source": [
    "filtered_parsed_list[0:50] # нужно убрать в конце цифру если она двух или трехзначная\n",
    "\n",
    "filtered_parsed_list_with_no_weights = []\n",
    "for i in filtered_parsed_list:\n",
    "    if i.split('-')[-1].isdigit() == True:\n",
    "        filtered_parsed_list_with_no_weights.append( i.replace('-'+str(i.split('-')[-1]),'') )\n",
    "        \n",
    "filtered_parsed_list = list(set(filtered_parsed_list_with_no_weights))"
   ]
  },
  {
   "cell_type": "code",
   "execution_count": 4,
   "metadata": {},
   "outputs": [
    {
     "data": {
      "text/plain": [
       "556"
      ]
     },
     "execution_count": 4,
     "metadata": {},
     "output_type": "execute_result"
    }
   ],
   "source": [
    "# получаем бренды\n",
    "\n",
    "headers = {\n",
    "    'Content-Type': 'application/json', \n",
    "}\n",
    "\n",
    "response = requests.get('https://api.rivegauche.ru/rg/v1/newRG/brands')\n",
    "\n",
    "response\n",
    "\n",
    "brands_json = json.loads(response.text)\n",
    "\n",
    "len(brands_json)"
   ]
  },
  {
   "cell_type": "code",
   "execution_count": 5,
   "metadata": {},
   "outputs": [],
   "source": [
    "# делаем каталог айди брендов\n",
    "\n",
    "all_brands_id_catalog = []\n",
    "\n",
    "for i in brands_json:\n",
    "    all_brands_id_catalog.append(i['code'])\n",
    "    \n",
    "#all_brands_id_catalog"
   ]
  },
  {
   "cell_type": "code",
   "execution_count": 10,
   "metadata": {},
   "outputs": [
    {
     "data": {
      "application/vnd.jupyter.widget-view+json": {
       "model_id": "d7e78283b5684d68ade97612ac73ead2",
       "version_major": 2,
       "version_minor": 0
      },
      "text/plain": [
       "VBox(children=(HTML(value=''), IntProgress(value=0, max=556)))"
      ]
     },
     "metadata": {},
     "output_type": "display_data"
    }
   ],
   "source": [
    "# сразу пишем финальный парсер\n",
    "# попробую прямую итерацию без проксей\n",
    "\n",
    "# важный момент - сделать отлавливание ошибок и трай-эксепт\n",
    "# при первом прогоне ошибок парсинга не обнаружено, прогон успешен\n",
    "\n",
    "all_products_from_list = []\n",
    "acquired_sku_s = []\n",
    "\n",
    "# в данном случае я не уверен в финальном списке товаров,\n",
    "# так что логгинг прогресса идет через бренды\n",
    "\n",
    "# выше описан план, в дальнейшем можно написать скрипт сверки с сайтмапом\n",
    "# и в процентах по url учитывать его заполнение.\n",
    "# А так - можно просто сравнить длину полученных данных\n",
    "# с колвом записей из сайтмапа\n",
    "\n",
    "for iter_brand_id in log_progress(all_brands_id_catalog):\n",
    "    # итерируем все бренды\n",
    "    \n",
    "    headers = {\n",
    "    'Content-Type': 'application/json', \n",
    "    }\n",
    "\n",
    "    brand_id = iter_brand_id\n",
    "    current_page = '0'\n",
    "\n",
    "    response = requests.get('https://api.rivegauche.ru/rg/v1/newRG/products/search?brandCode=%s&currentPage=%s&pageSize=100'% (brand_id, current_page))\n",
    "\n",
    "    temp_brand_products_json = json.loads(response.text)\n",
    "    \n",
    "    for page_id in range(0, temp_brand_products_json['pagination']['totalPages']):\n",
    "        # в каждом бренде итерируем по всем его товарам, добавляем их в список\n",
    "        \n",
    "        if page_id != 0:\n",
    "            # прогон нулевой был сделан вне этого цикла\n",
    "            headers = {\n",
    "            'Content-Type': 'application/json', \n",
    "            }\n",
    "\n",
    "            brand_id = iter_brand_id\n",
    "            current_page = str(page_id)\n",
    "\n",
    "            response = requests.get('https://api.rivegauche.ru/rg/v1/newRG/products/search?brandCode=%s&currentPage=%s&pageSize=100'% (brand_id, current_page))\n",
    "\n",
    "            temp_brand_products_json = json.loads(response.text)\n",
    "\n",
    "        for iter_brand_info in temp_brand_products_json['results']:\n",
    "            \n",
    "            try:\n",
    "                iter_brand_info['discountPrice']\n",
    "            except Exception as e:\n",
    "                if 'discountPrice' not in str(e):\n",
    "                    print(e)\n",
    "                    # logger.info(\"troubles with json: {%s}\", e)\n",
    "                iter_brand_info['discountPrice'] = iter_brand_info['price']\n",
    "                \n",
    "            cases_dict = iter_brand_info\n",
    "            your_keys = ['code', 'name', 'url','stock', 'availableForPickup', 'manufacturer', 'price', 'volumePricesFlag', 'subtitle', 'prices', \n",
    "                         'brand', 'canAddToCart', 'deleted', 'adult', 'discountPrice', 'categoriesChain']\n",
    "            temp_product_dict = { your_key: cases_dict[your_key] for your_key in your_keys }\n",
    "\n",
    "            if temp_product_dict['code'] not in acquired_sku_s:\n",
    "                acquired_sku_s.append(temp_product_dict['code'])\n",
    "                all_products_from_list.append(temp_product_dict)\n",
    "                \n",
    "    # делаем таймаут между брендами\n",
    "    time.sleep(1)"
   ]
  },
  {
   "cell_type": "code",
   "execution_count": 11,
   "metadata": {
    "scrolled": true
   },
   "outputs": [
    {
     "data": {
      "text/plain": [
       "18492"
      ]
     },
     "execution_count": 11,
     "metadata": {},
     "output_type": "execute_result"
    }
   ],
   "source": [
    "len(all_products_from_list)"
   ]
  },
  {
   "cell_type": "code",
   "execution_count": 12,
   "metadata": {},
   "outputs": [
    {
     "data": {
      "text/plain": [
       "3812"
      ]
     },
     "execution_count": 12,
     "metadata": {},
     "output_type": "execute_result"
    }
   ],
   "source": [
    "len(filtered_parsed_list)"
   ]
  },
  {
   "cell_type": "code",
   "execution_count": 23,
   "metadata": {},
   "outputs": [
    {
     "data": {
      "text/plain": [
       "18492"
      ]
     },
     "execution_count": 23,
     "metadata": {},
     "output_type": "execute_result"
    }
   ],
   "source": [
    "check_list = []\n",
    "\n",
    "for i in all_products_from_list:\n",
    "    check_list.append(str(i))\n",
    "\n",
    "# все оригинальные\n",
    "len(set(check_list))"
   ]
  },
  {
   "cell_type": "code",
   "execution_count": 15,
   "metadata": {},
   "outputs": [
    {
     "name": "stdout",
     "output_type": "stream",
     "text": [
      "finish: 2022-11-18 02:45:43.492091\n"
     ]
    }
   ],
   "source": [
    "now = datetime.now()\n",
    "print('finish:', now)"
   ]
  },
  {
   "cell_type": "code",
   "execution_count": 17,
   "metadata": {},
   "outputs": [],
   "source": [
    "with open('data_rivegauche.json', 'w', encoding='utf-8') as f:\n",
    "    json.dump(all_products_from_list, f, ensure_ascii=False, indent=4)"
   ]
  },
  {
   "cell_type": "code",
   "execution_count": null,
   "metadata": {},
   "outputs": [],
   "source": []
  },
  {
   "cell_type": "code",
   "execution_count": null,
   "metadata": {},
   "outputs": [],
   "source": []
  },
  {
   "cell_type": "code",
   "execution_count": 25,
   "metadata": {
    "scrolled": true
   },
   "outputs": [
    {
     "data": {
      "text/plain": [
       "{'code': '867392',\n",
       " 'name': '3Lab Perfect Neck Cream',\n",
       " 'url': '/product/3lab-perfect-neck-cream',\n",
       " 'stock': {'stockLevelStatus': 'outOfStock', 'stockLevel': 0},\n",
       " 'availableForPickup': False,\n",
       " 'manufacturer': '3LAB',\n",
       " 'price': {'currencyIso': 'RUB',\n",
       "  'value': 15382.0,\n",
       "  'priceType': 'BUY',\n",
       "  'formattedValue': '15\\xa0382&nbsp;₽'},\n",
       " 'volumePricesFlag': False,\n",
       " 'subtitle': 'Увлажняющий крем для шеи, повышающий упругость кожи',\n",
       " 'prices': [{'currencyIso': 'RUB',\n",
       "   'value': 15382.0,\n",
       "   'priceType': 'BUY',\n",
       "   'formattedValue': '15\\xa0382&nbsp;₽',\n",
       "   'priceGroupCode': 'goldCardPriceGroup'},\n",
       "  {'currencyIso': 'RUB',\n",
       "   'value': 19484.0,\n",
       "   'priceType': 'BUY',\n",
       "   'formattedValue': '19\\xa0484&nbsp;₽',\n",
       "   'priceGroupCode': 'blueCardPriceGroup'},\n",
       "  {'currencyIso': 'RUB',\n",
       "   'value': 20510.0,\n",
       "   'priceType': 'BUY',\n",
       "   'formattedValue': '20\\xa0510&nbsp;₽',\n",
       "   'priceGroupCode': 'basePriceGroup'}],\n",
       " 'brand': {'code': 'rg_brand_407',\n",
       "  'name': '3LAB',\n",
       "  'logo': {'url': '/medias6/?context=bWFzdGVyfGJyYW5kc3wyMzU1OXxpbWFnZS9qcGVnfGJyYW5kcy9oZTIvaDJlLzEwMDUyOTY2NzQ0MDk0LmpwZ3w1MTkwMzk3ZWQ3YTQ5ZGJkZTk2NzYzNDU4YjBmMzIzMzZkYTRjZTFjMDFkZmVkNzg5MjA5ZTk0NGZjNzEyMWQ3',\n",
       "   'code': '3LABLogo',\n",
       "   'mime': 'image/jpeg',\n",
       "   'height': 131,\n",
       "   'width': 150},\n",
       "  'url': '/brands/3lab'},\n",
       " 'canAddToCart': True,\n",
       " 'deleted': False,\n",
       " 'adult': False,\n",
       " 'discountPrice': {'currencyIso': 'RUB',\n",
       "  'value': 15382.0,\n",
       "  'priceType': 'BUY',\n",
       "  'formattedValue': '15\\xa0382&nbsp;₽'},\n",
       " 'categoriesChain': ''}"
      ]
     },
     "execution_count": 25,
     "metadata": {},
     "output_type": "execute_result"
    }
   ],
   "source": [
    "all_products_from_list[-1]"
   ]
  },
  {
   "cell_type": "code",
   "execution_count": null,
   "metadata": {},
   "outputs": [],
   "source": []
  },
  {
   "cell_type": "code",
   "execution_count": null,
   "metadata": {},
   "outputs": [],
   "source": []
  },
  {
   "cell_type": "code",
   "execution_count": null,
   "metadata": {},
   "outputs": [],
   "source": [
    "stop"
   ]
  },
  {
   "cell_type": "code",
   "execution_count": null,
   "metadata": {},
   "outputs": [],
   "source": [
    "# в общем идея в том, что если в резалтах будет сотня, то тогда догружать некст страницу\n",
    "headers = {\n",
    "    'Content-Type': 'application/json', \n",
    "}\n",
    "\n",
    "brand_id = 'rg_brand_675'\n",
    "current_page = '0'\n",
    "\n",
    "response = requests.get('https://api.rivegauche.ru/rg/v1/newRG/products/search?brandCode=%s&currentPage=%s&pageSize=100'% (brand_id, current_page))\n",
    "\n",
    "temp_brand_products_json = json.loads(response.text)"
   ]
  },
  {
   "cell_type": "code",
   "execution_count": null,
   "metadata": {},
   "outputs": [],
   "source": [
    "temp_brand_products_json"
   ]
  },
  {
   "cell_type": "code",
   "execution_count": null,
   "metadata": {},
   "outputs": [],
   "source": [
    "temp_brand_products_json.keys()"
   ]
  },
  {
   "cell_type": "code",
   "execution_count": null,
   "metadata": {},
   "outputs": [],
   "source": [
    "# количество страниц в запросе\n",
    "temp_brand_products_json['pagination']['totalPages']\n"
   ]
  },
  {
   "cell_type": "code",
   "execution_count": null,
   "metadata": {},
   "outputs": [],
   "source": [
    "temp_brand_products_json['results'][0]"
   ]
  },
  {
   "cell_type": "code",
   "execution_count": null,
   "metadata": {},
   "outputs": [],
   "source": [
    "temp_brand_products_json['results'][0].keys()"
   ]
  },
  {
   "cell_type": "code",
   "execution_count": null,
   "metadata": {},
   "outputs": [],
   "source": []
  }
 ],
 "metadata": {
  "hide_input": false,
  "kernelspec": {
   "display_name": "Python 3",
   "language": "python",
   "name": "python3"
  },
  "language_info": {
   "codemirror_mode": {
    "name": "ipython",
    "version": 3
   },
   "file_extension": ".py",
   "mimetype": "text/x-python",
   "name": "python",
   "nbconvert_exporter": "python",
   "pygments_lexer": "ipython3",
   "version": "3.7.3"
  },
  "toc": {
   "base_numbering": 1,
   "nav_menu": {},
   "number_sections": true,
   "sideBar": true,
   "skip_h1_title": false,
   "title_cell": "Table of Contents",
   "title_sidebar": "Contents",
   "toc_cell": false,
   "toc_position": {},
   "toc_section_display": true,
   "toc_window_display": false
  },
  "varInspector": {
   "cols": {
    "lenName": 16,
    "lenType": 16,
    "lenVar": 40
   },
   "kernels_config": {
    "python": {
     "delete_cmd_postfix": "",
     "delete_cmd_prefix": "del ",
     "library": "var_list.py",
     "varRefreshCmd": "print(var_dic_list())"
    },
    "r": {
     "delete_cmd_postfix": ") ",
     "delete_cmd_prefix": "rm(",
     "library": "var_list.r",
     "varRefreshCmd": "cat(var_dic_list()) "
    }
   },
   "types_to_exclude": [
    "module",
    "function",
    "builtin_function_or_method",
    "instance",
    "_Feature"
   ],
   "window_display": false
  }
 },
 "nbformat": 4,
 "nbformat_minor": 2
}
