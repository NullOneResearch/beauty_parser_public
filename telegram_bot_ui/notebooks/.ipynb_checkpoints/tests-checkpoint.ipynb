{
 "cells": [
  {
   "cell_type": "code",
   "execution_count": null,
   "metadata": {},
   "outputs": [],
   "source": [
    "# строим бота"
   ]
  },
  {
   "cell_type": "code",
   "execution_count": 32,
   "metadata": {},
   "outputs": [],
   "source": [
    "import json\n",
    "import requests\n",
    "import time\n",
    "import logging\n",
    "import random\n",
    "from datetime import datetime\n",
    "\n",
    "def get_info_from_api_db(req_text):\n",
    "    # http://127.0.0.1:8000/data/get/крем\n",
    "\n",
    "    local_api_response = requests.get('http://127.0.0.1:8000/data/get/'+req_text)\n",
    "\n",
    "    try:\n",
    "                \n",
    "        all_answers_from_api = []\n",
    "        temp_list = list(range(0, len(json.loads(local_api_response.text))))\n",
    "        random.shuffle(temp_list)\n",
    "        for i in temp_list[0:10]: # !!! длину шаффла вынес сюда\n",
    "            all_answers_from_api.append(json.loads(local_api_response.text)[i])\n",
    "\n",
    "        \n",
    "    except Exception as e:\n",
    "        print(e)\n",
    "        all_answers_from_api = {}\n",
    "\n",
    "    # и красиво оформим ответ\n",
    "    if len(all_answers_from_api) != 0:\n",
    "        temp_answer = req_text+': Подходящие ответы:\\n'\n",
    "        for iter_local_api_r in all_answers_from_api:\n",
    "            temp_answer+='Название:'+str(iter_local_api_r[0])+'\\n'\n",
    "            temp_answer+='Цена:'+str(iter_local_api_r[1])+'\\n'\n",
    "            temp_answer+='Производитель:'+str(iter_local_api_r[2])+'\\n'\n",
    "            temp_answer+='Комментарий:'+str(iter_local_api_r[3])+'\\n'\n",
    "            temp_answer+='Ссылка:'+str(iter_local_api_r[5])+'\\n'\n",
    "            temp_answer+='Дата получения:'+str(iter_local_api_r[6])+'\\n'\n",
    "            temp_answer+='Дистрибьютор:'+str(iter_local_api_r[7])+'\\n'\n",
    "            temp_answer+='__________________________\\n'\n",
    "\n",
    "        answer_data = temp_answer\n",
    "\n",
    "    else:\n",
    "        answer_data = req_text+': К сожалению ничего не найдено'\n",
    "\n",
    "    return answer_data"
   ]
  },
  {
   "cell_type": "code",
   "execution_count": 33,
   "metadata": {
    "scrolled": true
   },
   "outputs": [
    {
     "data": {
      "text/plain": [
       "'крем: Подходящие ответы:\\nНазвание:Organic Oblepikha\\nЦена:134\\nПроизводитель:Karelia Organica\\nКомментарий:Био-крем для рук | Крем | Женский | Увлажнение и питание | Руки | Россия | \\nСсылка:https://goldapple.ru/19000031169-organic-oblepikha\\nДата получения:2022-11-23\\nДистрибьютор:Золотое яблоко\\n__________________________\\nНазвание:Hyaluronic Solution Moist Cream\\nЦена:1086\\nПроизводитель:NEXTBEAU\\nКомментарий:Увлажняющий крем с гиалуроновой кислотой | Крем | Женский | Увлажнение и питание | Лицо | \\nСсылка:https://goldapple.ru/19000035124-hyaluronic-solution-moist-cream\\nДата получения:2022-11-23\\nДистрибьютор:Золотое яблоко\\n__________________________\\nНазвание:Deep Exfoliating Mask. Azelaic Acid\\nЦена:10640\\nПроизводитель:DR SEBAGH\\nКомментарий:Маска для лица | Маски кремовые | Женский | Очищение | Лицо | Франция | \\nСсылка:https://goldapple.ru/19000082293-deep-exfoliating-mask-azelaic-acid\\nДата получения:2022-11-23\\nДистрибьютор:Золотое яблоко\\n__________________________\\nНазвание:Антивозрастная ночная крем-маска для лица и шеи\\nЦена:3374.0\\nПроизводитель:COLLISTAR\\nКомментарий:Уход за лицом | 75 мл\\nСсылка:https://www.letu.ru/product/collistar-antivozrastnaya-nochnaya-krem-maska-dlya-litsa-i-shei/79100050\\nДата получения:2022-11-23\\nДистрибьютор:Летуаль\\n__________________________\\nНазвание:PERFECT TIME ANTI WRINKLE EYE CREAM\\nЦена:4100\\nПроизводитель:Holy Land\\nКомментарий:Укрепляющий крем для век | Крем | Унисекс | Против признаков старения | Глаза | \\nСсылка:https://goldapple.ru/19000038002-perfect-time-anti-wrinkle-eye-cream\\nДата получения:2022-11-23\\nДистрибьютор:Золотое яблоко\\n__________________________\\nНазвание:Multi-Action Peptide Cream\\nЦена:801\\nПроизводитель:ARAVIA Professional\\nКомментарий:Мульти-крем для лица с пептидами и антиоксидантным комплексом  | Крем | Унисекс | Увлажнение и питание | Лицо | Россия | \\nСсылка:https://goldapple.ru/19000004185-multi-action-peptide-cream\\nДата получения:2022-11-23\\nДистрибьютор:Золотое яблоко\\n__________________________\\nНазвание:Confort Crème Mains \\nЦена:2430\\nПроизводитель:Lancôme\\nКомментарий:Питательный крем для рук | Крем | Женский | Увлажнение и питание | Руки | Франция | \\nСсылка:https://goldapple.ru/19000006025-confort-creme-mains\\nДата получения:2022-11-23\\nДистрибьютор:Золотое яблоко\\n__________________________\\nНазвание:Lip Сomfort Oil Intense Масло-тинт для губ с кремовой текстурой\\nЦена:2325.0\\nПроизводитель:Clarins\\nКомментарий:Количество оттенков: 5\\nСсылка:https://iledebeaute.ru/make-up/lips/shiny/clarins-lip-somfort-oil-intense-prod7c3t/\\nДата получения:2022-11-23\\nДистрибьютор:Ильдеботе\\n__________________________\\nНазвание:TIME PLUS LONGLASTING MAKE UP\\nЦена:779\\nПроизводитель:Seventeen\\nКомментарий:Тональный крем длительного действия  | Тональный крем | Женский | Греция | \\nСсылка:https://goldapple.ru/17752-time-plus-longlasting-make-up\\nДата получения:2022-11-23\\nДистрибьютор:Золотое яблоко\\n__________________________\\nНазвание:Pink Iris\\nЦена:1350\\nПроизводитель:Manly PRO\\nКомментарий:Румяна кремовые  | Жидкие румяна | Женский | Россия | \\nСсылка:https://goldapple.ru/69971100002-pink-iris\\nДата получения:2022-11-23\\nДистрибьютор:Золотое яблоко\\n__________________________\\n'"
      ]
     },
     "execution_count": 33,
     "metadata": {},
     "output_type": "execute_result"
    }
   ],
   "source": [
    "req_text = 'крем'\n",
    "get_info_from_api_db(req_text)"
   ]
  },
  {
   "cell_type": "code",
   "execution_count": null,
   "metadata": {},
   "outputs": [],
   "source": []
  },
  {
   "cell_type": "code",
   "execution_count": null,
   "metadata": {
    "code_folding": [
     19,
     56
    ]
   },
   "outputs": [],
   "source": [
    "# прототип бота\n",
    "\n",
    "import json\n",
    "import requests\n",
    "import time\n",
    "import logging\n",
    "from datetime import datetime\n",
    "\n",
    "def get_new_updates(bot_api):\n",
    "    # current_dict = {}\n",
    "    # подтягиваем старые ответы\n",
    "    # нужны регулярные бекапы походу\n",
    "    with open('log_of_requests_db.json', 'rb') as fp:\n",
    "        current_dict = json.load(fp)\n",
    "\n",
    "    # получение последней сотни запросов\n",
    "    response_api = requests.get('https://api.telegram.org/bot'+bot_api+'/getUpdates')\n",
    "\n",
    "    CasesJson = json.loads(response_api.text)\n",
    "    \n",
    "    return current_dict, CasesJson\n",
    "\n",
    "def handle_updates(current_dict, CasesJson):\n",
    "    # обработка списка запросов\n",
    "    for i in CasesJson['result']:\n",
    "        # у ключа единый формат\n",
    "        str_update_id = str(i['update_id'])\n",
    "        try:\n",
    "            #print(current_dict[str_update_id]['answered_or_not'])\n",
    "            if current_dict[str_update_id]['answered_or_not'] == False:\n",
    "                # доп проверка, добавляем в бд только если у него нет записи\n",
    "                temp_dict = {}\n",
    "                temp_dict['chat_id'] = i['message']['chat']['id']\n",
    "                temp_dict['date_sent'] = i['message']['date']\n",
    "\n",
    "                temp_dict['username'] = i['message']['chat']['username']\n",
    "                temp_dict['req_text'] = i['message']['text']\n",
    "                temp_dict['answered_or_not'] = False\n",
    "\n",
    "                current_dict[str_update_id] = temp_dict\n",
    "            else:\n",
    "                pass\n",
    "        except Exception as e:\n",
    "            print(e, i['message']['chat']['username'], str(datetime.now()), '|||', i['message']['text'])\n",
    "\n",
    "            logger.info(\"new_message: {%s}\", (e, i['message']['chat']['username'], str(datetime.now()), '|||', i['message']['text']))\n",
    "            \n",
    "            temp_dict = {}\n",
    "            temp_dict['chat_id'] = i['message']['chat']['id']\n",
    "            temp_dict['date_sent'] = i['message']['date']\n",
    "\n",
    "            temp_dict['username'] = i['message']['chat']['username']\n",
    "            temp_dict['req_text'] = i['message']['text']\n",
    "            temp_dict['answered_or_not'] = False\n",
    "\n",
    "            current_dict[str_update_id] = temp_dict\n",
    "            # либо если его вообще не найдено в бд (тут доп проверку на имя ошибки)\n",
    "    return current_dict\n",
    "\n",
    "def send_responses(current_dict, bot_api):\n",
    "    # ответы на неотвеченные\n",
    "\n",
    "    for iter_current_dict in current_dict:\n",
    "        if current_dict[iter_current_dict]['answered_or_not'] != True:\n",
    "            \n",
    "            # тут ответ\n",
    "            req_text = current_dict[iter_current_dict]['req_text']\n",
    "            \n",
    "            answer_data = get_info_from_api_db(req_text)\n",
    "\n",
    "            json_data = {\"chat_id\": current_dict[iter_current_dict]['chat_id'], \"text\": answer_data}\n",
    "            \n",
    "            r = requests.post('https://api.telegram.org/bot'+bot_api+'/sendMessage', json=json_data)\n",
    "            r.status_code\n",
    "\n",
    "            current_dict[iter_current_dict]['answered_or_not'] = True\n",
    "\n",
    "        elif current_dict[iter_current_dict]['answered_or_not'] == True:\n",
    "            pass\n",
    "\n",
    "    # сохранение лога\n",
    "    with open('log_of_requests_db.json', 'w', encoding='utf-8') as f:\n",
    "        json.dump(current_dict, f, ensure_ascii=False, indent=4)\n",
    "        \n",
    "\n",
    "        \n",
    "# обращения к апишке\n",
    "def get_info_from_api_db(req_text):\n",
    "    # http://127.0.0.1:8000/data/get/крем\n",
    "    \n",
    "    local_api_response = requests.get('http://127.0.0.1:8000/data/get/'+req_text)\n",
    "    \n",
    "    try:\n",
    "        all_answers_from_api = json.loads(local_api_response.text)[0:10]\n",
    "    except:\n",
    "        all_answers_from_api = {}\n",
    "\n",
    "    # и красиво оформим ответ\n",
    "    if len(all_answers_from_api) != 0:\n",
    "        temp_answer = req_text+': Подходящие ответы:\\n'\n",
    "        for iter_local_api_r in all_answers_from_api:\n",
    "            temp_answer+='Название:'+str(iter_local_api_r[0])+'\\n'\n",
    "            temp_answer+='Цена:'+str(iter_local_api_r[1])+'\\n'\n",
    "            temp_answer+='Производитель:'+str(iter_local_api_r[2])+'\\n'\n",
    "            temp_answer+='Комментарий:'+str(iter_local_api_r[3])+'\\n'\n",
    "            temp_answer+='Ссылка:'+str(iter_local_api_r[5])+'\\n'\n",
    "            temp_answer+='Дата получения:'+str(iter_local_api_r[6])+'\\n'\n",
    "            temp_answer+='Дистрибьютор:'+str(iter_local_api_r[7])+'\\n'\n",
    "            temp_answer+='__________________________\\n'\n",
    "\n",
    "        answer_data = temp_answer\n",
    "        \n",
    "    else:\n",
    "        answer_data = req_text+': К сожалению ничего не найдено'\n",
    "    \n",
    "    return answer_data"
   ]
  },
  {
   "cell_type": "code",
   "execution_count": null,
   "metadata": {
    "scrolled": true
   },
   "outputs": [],
   "source": [
    "# основной код исполнения бота\n",
    "\n",
    "bot_api = '5923957238:AAGfS1I4lUkOUEE2fHiwlU2PQOFT8DektpQ'\n",
    "\n",
    "logging.basicConfig(filename='tg_api_logs.json', filemode='a+', level=logging.INFO)\n",
    "logger = logging.getLogger()\n",
    "\n",
    "while True:\n",
    "\n",
    "    current_dict, CasesJson = get_new_updates(bot_api)\n",
    "\n",
    "    current_dict = handle_updates(current_dict, CasesJson)\n",
    "    \n",
    "    # инициируем отправку ответов\n",
    "    send_responses(current_dict, bot_api)\n",
    "            \n",
    "    time.sleep(10)"
   ]
  },
  {
   "cell_type": "code",
   "execution_count": null,
   "metadata": {},
   "outputs": [],
   "source": []
  },
  {
   "cell_type": "code",
   "execution_count": null,
   "metadata": {},
   "outputs": [],
   "source": []
  },
  {
   "cell_type": "code",
   "execution_count": null,
   "metadata": {},
   "outputs": [],
   "source": []
  },
  {
   "cell_type": "code",
   "execution_count": null,
   "metadata": {
    "scrolled": true
   },
   "outputs": [],
   "source": [
    "import json\n",
    "import requests\n",
    "import time\n",
    "import logging\n",
    "from datetime import datetime\n",
    "\n",
    "bot_api = '5923957238:AAGfS1I4lUkOUEE2fHiwlU2PQOFT8DektpQ'\n",
    "\n",
    "logging.basicConfig(filename='tg_api_logs.json', filemode='a+', level=logging.INFO)\n",
    "logger = logging.getLogger()\n",
    "\n",
    "while True:\n",
    "\n",
    "    # current_dict = {}\n",
    "    with open('log_of_requests_db.json', 'rb') as fp:\n",
    "        current_dict = json.load(fp)\n",
    "\n",
    "    # получение последней сотни запросов\n",
    "    response_api = requests.get('https://api.telegram.org/bot'+bot_api+'/getUpdates')\n",
    "\n",
    "    CasesJson = json.loads(response_api.text)\n",
    "\n",
    "\n",
    "    # обработка списка запросов\n",
    "    for i in CasesJson['result']:\n",
    "        # у ключа единый формат\n",
    "        str_update_id = str(i['update_id'])\n",
    "        try:\n",
    "            #print(current_dict[str_update_id]['answered_or_not'])\n",
    "            if current_dict[str_update_id]['answered_or_not'] == False:\n",
    "                # доп проверка, добавляем в бд только если у него нет записи\n",
    "                temp_dict = {}\n",
    "                temp_dict['chat_id'] = i['message']['chat']['id']\n",
    "                temp_dict['date_sent'] = i['message']['date']\n",
    "\n",
    "                temp_dict['username'] = i['message']['chat']['username']\n",
    "                temp_dict['req_text'] = i['message']['text']\n",
    "                temp_dict['answered_or_not'] = False\n",
    "\n",
    "                current_dict[str_update_id] = temp_dict\n",
    "            else:\n",
    "                pass\n",
    "        except Exception as e:\n",
    "            print(e, i['message']['chat']['username'], str(datetime.now()), '|||', i['message']['text'])\n",
    "\n",
    "            logger.info(\"new_message: {%s}\", (e, i['message']['chat']['username'], str(datetime.now()), '|||', i['message']['text']))\n",
    "            \n",
    "            temp_dict = {}\n",
    "            temp_dict['chat_id'] = i['message']['chat']['id']\n",
    "            temp_dict['date_sent'] = i['message']['date']\n",
    "\n",
    "            temp_dict['username'] = i['message']['chat']['username']\n",
    "            temp_dict['req_text'] = i['message']['text']\n",
    "            temp_dict['answered_or_not'] = False\n",
    "\n",
    "            current_dict[str_update_id] = temp_dict\n",
    "            # либо если его вообще не найдено в бд (тут доп проверку на имя ошибки)\n",
    "    #current_dict\n",
    "\n",
    "    # ответы на неотвеченные\n",
    "\n",
    "    for iter_current_dict in current_dict:\n",
    "        if current_dict[iter_current_dict]['answered_or_not'] != True:\n",
    "            \n",
    "            # тут ответ\n",
    "            answer_data = \"тестовый \\n ответ: \" + current_dict[iter_current_dict]['req_text'] + ' | ' + str(current_dict[iter_current_dict]['answered_or_not'])\n",
    "\n",
    "            json_data = {\"chat_id\": current_dict[iter_current_dict]['chat_id'], \"text\": answer_data}\n",
    "            \n",
    "            r = requests.post('https://api.telegram.org/bot'+bot_api+'/sendMessage', json=json_data)\n",
    "            r.status_code\n",
    "\n",
    "            current_dict[iter_current_dict]['answered_or_not'] = True\n",
    "\n",
    "        elif current_dict[iter_current_dict]['answered_or_not'] == True:\n",
    "            pass\n",
    "\n",
    "    # сохранение лога\n",
    "    with open('log_of_requests_db.json', 'w', encoding='utf-8') as f:\n",
    "        json.dump(current_dict, f, ensure_ascii=False, indent=4)\n",
    "            \n",
    "            \n",
    "    time.sleep(10)"
   ]
  },
  {
   "cell_type": "code",
   "execution_count": null,
   "metadata": {},
   "outputs": [],
   "source": [
    "json_data = {\"chat_id\": 276283390, \"text\": \"тестовый \\n ответ\"}\n",
    "r = requests.post('https://api.telegram.org/bot5923957238:AAGfS1I4lUkOUEE2fHiwlU2PQOFT8DektpQ/sendMessage', json=json_data)\n",
    "r.status_code"
   ]
  },
  {
   "cell_type": "code",
   "execution_count": null,
   "metadata": {
    "scrolled": true
   },
   "outputs": [],
   "source": [
    "current_dict"
   ]
  },
  {
   "cell_type": "code",
   "execution_count": null,
   "metadata": {},
   "outputs": [],
   "source": []
  },
  {
   "cell_type": "code",
   "execution_count": null,
   "metadata": {},
   "outputs": [],
   "source": []
  },
  {
   "cell_type": "code",
   "execution_count": null,
   "metadata": {},
   "outputs": [],
   "source": []
  },
  {
   "cell_type": "code",
   "execution_count": null,
   "metadata": {},
   "outputs": [],
   "source": []
  },
  {
   "cell_type": "code",
   "execution_count": null,
   "metadata": {},
   "outputs": [],
   "source": [
    "# работу с интерфейсом можно построить через http-запросы\n",
    "# это облегчит деплой и быструю выкатку бота\n",
    "\n",
    "# пример запроса\n",
    "https://api.telegram.org/bot[BOT_API_KEY]/[methodName]\n",
    "\n",
    "# вот так получить основную инфу о боте\n",
    "https://api.telegram.org/bot5923957238:AAGfS1I4lUkOUEE2fHiwlU2PQOFT8DektpQ/getMe\n",
    "        \n",
    "# получить новые сообщения\n",
    "https://api.telegram.org/bot5923957238:AAGfS1I4lUkOUEE2fHiwlU2PQOFT8DektpQ/getUpdates"
   ]
  },
  {
   "cell_type": "code",
   "execution_count": null,
   "metadata": {},
   "outputs": [],
   "source": []
  },
  {
   "cell_type": "code",
   "execution_count": null,
   "metadata": {},
   "outputs": [],
   "source": [
    "# выслать сообщение\n",
    "\n",
    "https://api.telegram.org/bot5923957238:AAGfS1I4lUkOUEE2fHiwlU2PQOFT8DektpQ/sendMessage"
   ]
  },
  {
   "cell_type": "code",
   "execution_count": null,
   "metadata": {},
   "outputs": [],
   "source": [
    "https://api.telegram.org/bot5923957238:AAGfS1I4lUkOUEE2fHiwlU2PQOFT8DektpQ/sendMessage{chat_id:8, text='answer'}"
   ]
  },
  {
   "cell_type": "code",
   "execution_count": null,
   "metadata": {},
   "outputs": [],
   "source": [
    "{\"update_id\":799895618,\n",
    "\"message\":{\"message_id\":7,\"from\":{\"id\":54318251,\"is_bot\":false,\"first_name\":\"Aynur \\u2600\\ufe0f\",\"username\":\"runchitta\",\"language_code\":\"ru\"},\"chat\":{\"id\":54318251,\"first_name\":\"Aynur \\u2600\\ufe0f\",\"username\":\"runchitta\",\"type\":\"private\"},\"date\":1669732854,\"text\":\"\\u043a\\u0440\\u0435\\u043c garnier\"}}]}\n",
    "\n",
    "\"message\":{\"message_id\":8,\"from\":{\"id\":276283390,\"is_bot\":false,\"first_name\":\"N\\u0325u\\u0325ll\\u2070\\u02d9\\u02d9\\u047a\\u0302\\u1d3ae\\u00b9\",\"username\":\"Mashniny\",\"language_code\":\"ru\"},\"chat\":{\"id\":276283390,\"first_name\":\"N\\u0325u\\u0325ll\\u2070\\u02d9\\u02d9\\u047a\\u0302\\u1d3ae\\u00b9\",\"username\":\"Mashniny\",\"type\":\"private\"},\"date\":1669733150,\"text\":\"test test\"}}]}\n",
    "    \n"
   ]
  },
  {
   "cell_type": "code",
   "execution_count": null,
   "metadata": {},
   "outputs": [],
   "source": [
    "import json"
   ]
  },
  {
   "cell_type": "code",
   "execution_count": null,
   "metadata": {},
   "outputs": [],
   "source": [
    "# отправка сообшений\n",
    "# ты \\n крем\n",
    "\n",
    "import requests\n",
    "\n",
    "\n",
    "json_data = {\"chat_id\": 276283390, \"text\": \"ти \\n крем\"}\n",
    "r = requests.post('https://api.telegram.org/bot5923957238:AAGfS1I4lUkOUEE2fHiwlU2PQOFT8DektpQ/sendMessage', json=json_data)\n",
    "r.status_code\n"
   ]
  },
  {
   "cell_type": "code",
   "execution_count": null,
   "metadata": {
    "scrolled": true
   },
   "outputs": [],
   "source": [
    "r.json()"
   ]
  },
  {
   "cell_type": "code",
   "execution_count": null,
   "metadata": {
    "scrolled": true
   },
   "outputs": [],
   "source": [
    "response_api = requests.get('https://api.telegram.org/bot5923957238:AAGfS1I4lUkOUEE2fHiwlU2PQOFT8DektpQ/getUpdates')\n",
    "\n",
    "CasesJson = json.loads(response_api.text)\n",
    "CasesJson"
   ]
  },
  {
   "cell_type": "code",
   "execution_count": null,
   "metadata": {},
   "outputs": [],
   "source": [
    "current_dict = {}\n",
    "for i in CasesJson['result']:\n",
    "    temp_dict = {}\n",
    "    temp_dict['chat_id'] = i['message']['chat']['id']\n",
    "    temp_dict['date_sent'] = i['message']['date']\n",
    "    \n",
    "    temp_dict['username'] = i['message']['chat']['username']\n",
    "    temp_dict['req_text'] = i['message']['text']\n",
    "    temp_dict['answered_or_not'] = False\n",
    "    \n",
    "    current_dict[i['update_id']] = temp_dict\n",
    "current_dict"
   ]
  },
  {
   "cell_type": "code",
   "execution_count": null,
   "metadata": {},
   "outputs": [],
   "source": [
    "CasesJson['result'][1]['message']['text']"
   ]
  },
  {
   "cell_type": "code",
   "execution_count": null,
   "metadata": {},
   "outputs": [],
   "source": []
  }
 ],
 "metadata": {
  "hide_input": false,
  "kernelspec": {
   "display_name": "Python 3",
   "language": "python",
   "name": "python3"
  },
  "language_info": {
   "codemirror_mode": {
    "name": "ipython",
    "version": 3
   },
   "file_extension": ".py",
   "mimetype": "text/x-python",
   "name": "python",
   "nbconvert_exporter": "python",
   "pygments_lexer": "ipython3",
   "version": "3.7.3"
  },
  "toc": {
   "base_numbering": 1,
   "nav_menu": {},
   "number_sections": true,
   "sideBar": true,
   "skip_h1_title": false,
   "title_cell": "Table of Contents",
   "title_sidebar": "Contents",
   "toc_cell": false,
   "toc_position": {},
   "toc_section_display": true,
   "toc_window_display": false
  },
  "varInspector": {
   "cols": {
    "lenName": 16,
    "lenType": 16,
    "lenVar": 40
   },
   "kernels_config": {
    "python": {
     "delete_cmd_postfix": "",
     "delete_cmd_prefix": "del ",
     "library": "var_list.py",
     "varRefreshCmd": "print(var_dic_list())"
    },
    "r": {
     "delete_cmd_postfix": ") ",
     "delete_cmd_prefix": "rm(",
     "library": "var_list.r",
     "varRefreshCmd": "cat(var_dic_list()) "
    }
   },
   "types_to_exclude": [
    "module",
    "function",
    "builtin_function_or_method",
    "instance",
    "_Feature"
   ],
   "window_display": false
  }
 },
 "nbformat": 4,
 "nbformat_minor": 2
}
