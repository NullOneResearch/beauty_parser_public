{
 "cells": [
  {
   "cell_type": "code",
   "execution_count": null,
   "metadata": {},
   "outputs": [],
   "source": [
    "def handle_goldapple():\n",
    "    \n",
    "def handle_letu():\n",
    "    \n",
    "def handle_rivegauche():\n",
    "    \n",
    "def handle_iledebeaute():\n",
    "    \n",
    "def handle_podrygka():\n",
    "    \n",
    "\n"
   ]
  },
  {
   "cell_type": "code",
   "execution_count": 5,
   "metadata": {
    "scrolled": true
   },
   "outputs": [
    {
     "name": "stdout",
     "output_type": "stream",
     "text": [
      "                                        product_name  price      brand  \\\n",
      "0                ВВ-крем для любого типа кожи тон 01  399.0   ACHROMIN   \n",
      "1                ВВ-крем для любого типа кожи тон 02  399.0   ACHROMIN   \n",
      "2  Тональный ВВ Крем с Защитой от cолнца под тон ...  550.0   LEBELAGE   \n",
      "3                    ВВ крем гиалуроновый ALL in ONE  636.0  LIBREDERM   \n",
      "4     ВВ-крем Nude perfector с гиалуроновой кислотой  538.0  BEAUTIFIC   \n",
      "\n",
      "                                    comment inside_code  \\\n",
      "0                     Уход за лицом | 50 мл   112300030   \n",
      "1                     Уход за лицом | 50 мл   112300029   \n",
      "2                    BB&CC средства | 30 мл   116600582   \n",
      "3                     Уход за лицом | 50 мл   106800213   \n",
      "4  Уход за лицом | №2 теплый бежевый, 30 мл   124900751   \n",
      "\n",
      "                                                 url date_acquired  \\\n",
      "0  https://www.letu.ru/product/achromin-vv-krem-d...    2022-11-23   \n",
      "1  https://www.letu.ru/product/achromin-vv-krem-d...    2022-11-23   \n",
      "2  https://www.letu.ru/product/lebelage-tonalnyi-...    2022-11-23   \n",
      "3  https://www.letu.ru/product/librederm-vv-krem-...    2022-11-23   \n",
      "4  https://www.letu.ru/product/beautific-vv-krem-...    2022-11-23   \n",
      "\n",
      "  source_seller  \n",
      "0       Летуаль  \n",
      "1       Летуаль  \n",
      "2       Летуаль  \n",
      "3       Летуаль  \n",
      "4       Летуаль  \n"
     ]
    }
   ],
   "source": [
    "import pandas as pd\n",
    "\n",
    "import sqlite3\n",
    "\n",
    "# Read sqlite query results into a pandas DataFrame\n",
    "con = sqlite3.connect(\"sql_dbs/russian_beauty_parser.db\")\n",
    "df = pd.read_sql_query(\"SELECT * from cosmetics\", con)\n",
    "\n",
    "# Verify that result of SQL query is stored in the dataframe\n",
    "print(df.head())\n",
    "\n",
    "con.close()"
   ]
  },
  {
   "cell_type": "code",
   "execution_count": 7,
   "metadata": {
    "scrolled": true
   },
   "outputs": [
    {
     "data": {
      "text/plain": [
       "0         2022-11-23\n",
       "1         2022-11-23\n",
       "2         2022-11-23\n",
       "3         2022-11-23\n",
       "4         2022-11-23\n",
       "             ...    \n",
       "198733    2022-12-01\n",
       "198734    2022-12-01\n",
       "198735    2022-12-01\n",
       "198736    2022-12-01\n",
       "198737    2022-12-01\n",
       "Name: date_acquired, Length: 198738, dtype: object"
      ]
     },
     "execution_count": 7,
     "metadata": {},
     "output_type": "execute_result"
    }
   ],
   "source": [
    "df.date_acquired"
   ]
  },
  {
   "cell_type": "code",
   "execution_count": 1,
   "metadata": {},
   "outputs": [
    {
     "name": "stderr",
     "output_type": "stream",
     "text": [
      "B:\\python\\lib\\site-packages\\pandas\\compat\\_optional.py:138: UserWarning: Pandas requires version '2.7.0' or newer of 'numexpr' (version '2.6.9' currently installed).\n",
      "  warnings.warn(msg, UserWarning)\n"
     ]
    }
   ],
   "source": [
    "import database_handler"
   ]
  },
  {
   "cell_type": "code",
   "execution_count": 2,
   "metadata": {},
   "outputs": [
    {
     "data": {
      "text/plain": [
       "(<sqlite3.Connection at 0x1f226d97110>,\n",
       " <sqlite3.Cursor at 0x1f226d8c5e0>,\n",
       " datetime.date(2022, 11, 25))"
      ]
     },
     "execution_count": 2,
     "metadata": {},
     "output_type": "execute_result"
    }
   ],
   "source": [
    "database_handler.get_db_and_date()"
   ]
  },
  {
   "cell_type": "code",
   "execution_count": null,
   "metadata": {},
   "outputs": [],
   "source": []
  }
 ],
 "metadata": {
  "hide_input": false,
  "kernelspec": {
   "display_name": "Python 3",
   "language": "python",
   "name": "python3"
  },
  "language_info": {
   "codemirror_mode": {
    "name": "ipython",
    "version": 3
   },
   "file_extension": ".py",
   "mimetype": "text/x-python",
   "name": "python",
   "nbconvert_exporter": "python",
   "pygments_lexer": "ipython3",
   "version": "3.7.3"
  },
  "toc": {
   "base_numbering": 1,
   "nav_menu": {},
   "number_sections": true,
   "sideBar": true,
   "skip_h1_title": false,
   "title_cell": "Table of Contents",
   "title_sidebar": "Contents",
   "toc_cell": false,
   "toc_position": {},
   "toc_section_display": true,
   "toc_window_display": false
  },
  "varInspector": {
   "cols": {
    "lenName": 16,
    "lenType": 16,
    "lenVar": 40
   },
   "kernels_config": {
    "python": {
     "delete_cmd_postfix": "",
     "delete_cmd_prefix": "del ",
     "library": "var_list.py",
     "varRefreshCmd": "print(var_dic_list())"
    },
    "r": {
     "delete_cmd_postfix": ") ",
     "delete_cmd_prefix": "rm(",
     "library": "var_list.r",
     "varRefreshCmd": "cat(var_dic_list()) "
    }
   },
   "types_to_exclude": [
    "module",
    "function",
    "builtin_function_or_method",
    "instance",
    "_Feature"
   ],
   "window_display": false
  }
 },
 "nbformat": 4,
 "nbformat_minor": 2
}
