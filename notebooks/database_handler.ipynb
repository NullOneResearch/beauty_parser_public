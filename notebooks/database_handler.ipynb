{
 "cells": [
  {
   "cell_type": "code",
   "execution_count": 1,
   "metadata": {},
   "outputs": [],
   "source": [
    "import sqlite3\n",
    "import json\n",
    "import pandas as pd\n",
    "from datetime import date\n",
    "\n",
    "con = sqlite3.connect(\"russian_beauty_parser.db\")"
   ]
  },
  {
   "cell_type": "code",
   "execution_count": 2,
   "metadata": {},
   "outputs": [],
   "source": [
    "cur = con.cursor()"
   ]
  },
  {
   "cell_type": "code",
   "execution_count": 54,
   "metadata": {
    "scrolled": true
   },
   "outputs": [
    {
     "data": {
      "text/plain": [
       "{'brandName': 'ACHROMIN',\n",
       " 'categoryId': '3300006',\n",
       " 'categoryName': 'Уход за лицом',\n",
       " 'displayName': 'ВВ-крем для любого типа кожи тон 01',\n",
       " 'id': '112300030',\n",
       " 'minSkuId': '127500034',\n",
       " 'minSkuName': '50 мл',\n",
       " 'minSkuPrice': '799.000000',\n",
       " 'noLongerAvailable': False,\n",
       " 'numberOfSkuAvailable': 1,\n",
       " 'numberOfSkuInStock': 1,\n",
       " 'price': 399.0,\n",
       " 'priceWithoutCoupons': 399.0,\n",
       " 'rating': 5.0,\n",
       " 'rawPrice': 799.0,\n",
       " 'url': '/product/achromin-vv-krem-dlya-lyubogo-tipa-kozhi-ton-01/112300030',\n",
       " 'discountPercent': 50.0,\n",
       " 'onePriceForAllSkus': True}"
      ]
     },
     "execution_count": 54,
     "metadata": {},
     "output_type": "execute_result"
    }
   ],
   "source": [
    "date_acquired = date.today()\n",
    "\n",
    "with open('data_letu.json', 'rb') as fp:\n",
    "    parsed_letu_data = json.load(fp)\n",
    "    \n",
    "parsed_letu_data[0]"
   ]
  },
  {
   "cell_type": "code",
   "execution_count": 66,
   "metadata": {},
   "outputs": [
    {
     "data": {
      "text/plain": [
       "('ВВ-крем для любого типа кожи тон 01',\n",
       " 399.0,\n",
       " 'ACHROMIN',\n",
       " 'Уход за лицом | 50 мл',\n",
       " '112300030',\n",
       " 'https://www.letu.ru/product/achromin-vv-krem-dlya-lyubogo-tipa-kozhi-ton-01/112300030',\n",
       " datetime.date(2022, 11, 23),\n",
       " 'Летуаль')"
      ]
     },
     "execution_count": 66,
     "metadata": {},
     "output_type": "execute_result"
    }
   ],
   "source": [
    "# 'product_name', 'price', 'brand', 'comment', 'inside_code', 'url', 'date_acquired'\n",
    "\n",
    "insert_letu = []\n",
    "for i in parsed_letu_data:\n",
    "    product_name = i['displayName']\n",
    "    price = i['price']\n",
    "    brand = i['brandName']\n",
    "    comment = i['categoryName']+' | '+ i['minSkuName']\n",
    "    inside_code = i['id']\n",
    "    url = 'https://www.letu.ru' + i['url']\n",
    "    source_seller = 'Летуаль'\n",
    "    insert_letu.append((product_name, price, brand, comment, inside_code, url, date_acquired, source_seller))\n",
    "    \n",
    "insert_letu[0]"
   ]
  },
  {
   "cell_type": "code",
   "execution_count": null,
   "metadata": {},
   "outputs": [],
   "source": []
  },
  {
   "cell_type": "code",
   "execution_count": 56,
   "metadata": {
    "scrolled": true
   },
   "outputs": [
    {
     "data": {
      "text/plain": [
       "{'id': '109233',\n",
       " 'sku': '10032-14247000006',\n",
       " 'name': 'MINERALIZE SKINFINISH',\n",
       " 'brand': 'MAC',\n",
       " 'brand_type': 'standard',\n",
       " 'dimension17': 'Компактная пудра',\n",
       " 'dimension18': 'Женский',\n",
       " 'dimension19': None,\n",
       " 'dimension20': None,\n",
       " 'country': 'США',\n",
       " 'price': 3790,\n",
       " 'old_price': 3790,\n",
       " 'category_type': 'ПЕРЛАМУТРОВАЯ ПУДРА',\n",
       " 'url': 'https://goldapple.ru/10032-14247000006-mineralize-skinfinish',\n",
       " 'is_saleable': True}"
      ]
     },
     "execution_count": 56,
     "metadata": {},
     "output_type": "execute_result"
    }
   ],
   "source": [
    "with open('data_gold_apple.json', 'rb') as fp:\n",
    "    parsed_gold_apple_data = json.load(fp)\n",
    "    \n",
    "parsed_gold_apple_data[0]"
   ]
  },
  {
   "cell_type": "code",
   "execution_count": 57,
   "metadata": {},
   "outputs": [
    {
     "data": {
      "text/plain": [
       "('MINERALIZE SKINFINISH',\n",
       " 3790,\n",
       " 'MAC',\n",
       " 'ПЕРЛАМУТРОВАЯ ПУДРА | Компактная пудра | Женский | США | ',\n",
       " '10032-14247000006',\n",
       " 'https://goldapple.ru/10032-14247000006-mineralize-skinfinish',\n",
       " datetime.date(2022, 11, 23),\n",
       " 'Золотое яблоко')"
      ]
     },
     "execution_count": 57,
     "metadata": {},
     "output_type": "execute_result"
    }
   ],
   "source": [
    "# 'product_name', 'price', 'brand', 'comment', 'inside_code', 'url'\n",
    "\n",
    "insert_gold_apple = []\n",
    "for i in parsed_gold_apple_data:\n",
    "    product_name = i['name']\n",
    "    price = i['price']\n",
    "    brand = i['brand']\n",
    "    \n",
    "    comment_info = ''\n",
    "    for iter_insert in ([i['category_type'], i['dimension17'], i['dimension18'], i['dimension19'], i['dimension20'], i['country']]):\n",
    "        try:\n",
    "            comment_info+=iter_insert + ' | '\n",
    "        except:\n",
    "            pass\n",
    "    \n",
    "    comment = comment_info\n",
    "    inside_code = i['sku']\n",
    "    url = i['url']\n",
    "    source_seller = 'Золотое яблоко'\n",
    "    insert_gold_apple.append((product_name, price, brand, comment, inside_code, url, date_acquired, source_seller))\n",
    "    \n",
    "insert_gold_apple[0]"
   ]
  },
  {
   "cell_type": "code",
   "execution_count": null,
   "metadata": {},
   "outputs": [],
   "source": []
  },
  {
   "cell_type": "code",
   "execution_count": 58,
   "metadata": {
    "scrolled": true
   },
   "outputs": [
    {
     "data": {
      "text/plain": [
       "{'code': 'base_999298',\n",
       " 'name': 'Aadre Prebiotic Face Wash Gel',\n",
       " 'url': '/product/aadre-prebiotic-face-wash-gel-net-net-1',\n",
       " 'stock': {'stockLevelStatus': 'lowStock', 'stockLevel': 0},\n",
       " 'availableForPickup': False,\n",
       " 'manufacturer': 'AADRE',\n",
       " 'price': {'currencyIso': 'RUB',\n",
       "  'value': 1090.0,\n",
       "  'priceType': 'FROM',\n",
       "  'formattedValue': '1\\xa0090&nbsp;₽',\n",
       "  'priceGroupCode': 'basePriceGroup'},\n",
       " 'volumePricesFlag': False,\n",
       " 'subtitle': 'Гель для умывания с пребиотиком',\n",
       " 'prices': [{'currencyIso': 'RUB',\n",
       "   'value': 981.0,\n",
       "   'priceType': 'FROM',\n",
       "   'formattedValue': '981&nbsp;₽',\n",
       "   'priceGroupCode': 'goldCardPriceGroup'},\n",
       "  {'currencyIso': 'RUB',\n",
       "   'value': 1035.0,\n",
       "   'priceType': 'FROM',\n",
       "   'formattedValue': '1\\xa0035&nbsp;₽',\n",
       "   'priceGroupCode': 'blueCardPriceGroup'},\n",
       "  {'currencyIso': 'RUB',\n",
       "   'value': 1090.0,\n",
       "   'priceType': 'FROM',\n",
       "   'formattedValue': '1\\xa0090&nbsp;₽',\n",
       "   'priceGroupCode': 'basePriceGroup'}],\n",
       " 'brand': {'code': 'rg_brand_885', 'name': 'AADRE', 'url': '/brands/aadre'},\n",
       " 'canAddToCart': False,\n",
       " 'deleted': False,\n",
       " 'adult': False,\n",
       " 'discountPrice': {'currencyIso': 'RUB',\n",
       "  'value': 872.0,\n",
       "  'priceType': 'FROM',\n",
       "  'formattedValue': '872&nbsp;₽',\n",
       "  'priceGroupCode': 'discountPriceGroup'},\n",
       " 'categoriesChain': 'Красота и здоровье/Косметика, парфюмерия и уход/Уход за лицом/Очищение и снятие макияжа'}"
      ]
     },
     "execution_count": 58,
     "metadata": {},
     "output_type": "execute_result"
    }
   ],
   "source": [
    "with open('data_rivegauche.json', 'rb') as fp:\n",
    "    parsed_rivegauche_data = json.load(fp)\n",
    "    \n",
    "parsed_rivegauche_data[0]"
   ]
  },
  {
   "cell_type": "code",
   "execution_count": 59,
   "metadata": {},
   "outputs": [
    {
     "data": {
      "text/plain": [
       "('Aadre Prebiotic Face Wash Gel',\n",
       " 1090.0,\n",
       " 'AADRE',\n",
       " 'Красота и здоровье/Косметика, парфюмерия и уход/Уход за лицом/Очищение и снятие макияжа',\n",
       " 'base_999298',\n",
       " 'https://rivegauche.ru/product/aadre-prebiotic-face-wash-gel-net-net-1',\n",
       " datetime.date(2022, 11, 23),\n",
       " 'Ривгош')"
      ]
     },
     "execution_count": 59,
     "metadata": {},
     "output_type": "execute_result"
    }
   ],
   "source": [
    "# 'product_name', 'price', 'brand', 'comment', 'inside_code', 'url'\n",
    "\n",
    "insert_rivegauche = []\n",
    "for i in parsed_rivegauche_data:\n",
    "    product_name = i['name']\n",
    "    price = i['price']['value']\n",
    "    brand = i['manufacturer']\n",
    "    comment = i['categoriesChain']\n",
    "    inside_code = i['code']\n",
    "    url = 'https://rivegauche.ru' + i['url']\n",
    "    source_seller = 'Ривгош'\n",
    "    insert_rivegauche.append((product_name, price, brand, comment, inside_code, url, date_acquired, source_seller))\n",
    "    \n",
    "insert_rivegauche[0]"
   ]
  },
  {
   "cell_type": "code",
   "execution_count": null,
   "metadata": {},
   "outputs": [],
   "source": []
  },
  {
   "cell_type": "code",
   "execution_count": 60,
   "metadata": {},
   "outputs": [
    {
     "data": {
      "text/plain": [
       "[{'product_id': '387982',\n",
       "  'product_name': 'Skin Illusion Velvet Увлажняющий тональный крем с матовым покрытием',\n",
       "  'product_brand': 'Clarins',\n",
       "  'product_url': 'https://iledebeaute.ru/make-up/tint/cream/clarins-skin-illusion-velvet-prod8bda/',\n",
       "  'product_price': 4020.0,\n",
       "  'product_comment': 'Количество оттенков: 14'}]"
      ]
     },
     "execution_count": 60,
     "metadata": {},
     "output_type": "execute_result"
    }
   ],
   "source": [
    "with open('data_iledebeaute.json', 'rb') as fp:\n",
    "    parsed_iledebeaute_data = json.load(fp)\n",
    "    \n",
    "parsed_iledebeaute_data[0:1]"
   ]
  },
  {
   "cell_type": "code",
   "execution_count": 61,
   "metadata": {},
   "outputs": [
    {
     "data": {
      "text/plain": [
       "('Skin Illusion Velvet Увлажняющий тональный крем с матовым покрытием',\n",
       " 4020.0,\n",
       " 'Clarins',\n",
       " 'Количество оттенков: 14',\n",
       " '387982',\n",
       " 'https://iledebeaute.ru/make-up/tint/cream/clarins-skin-illusion-velvet-prod8bda/',\n",
       " datetime.date(2022, 11, 23),\n",
       " 'Ильдеботе')"
      ]
     },
     "execution_count": 61,
     "metadata": {},
     "output_type": "execute_result"
    }
   ],
   "source": [
    "insert_iledebeaute = []\n",
    "for i in parsed_iledebeaute_data:\n",
    "    product_name = i['product_name']\n",
    "    price = i['product_price']\n",
    "    brand = i['product_brand']\n",
    "    comment = i['product_comment']\n",
    "    inside_code = i['product_id']\n",
    "    url = i['product_url']\n",
    "    source_seller = 'Ильдеботе'\n",
    "    insert_iledebeaute.append((product_name, price, brand, comment, inside_code, url, date_acquired, source_seller))\n",
    "    \n",
    "insert_iledebeaute[0]"
   ]
  },
  {
   "cell_type": "code",
   "execution_count": null,
   "metadata": {},
   "outputs": [],
   "source": []
  },
  {
   "cell_type": "code",
   "execution_count": 62,
   "metadata": {},
   "outputs": [
    {
     "data": {
      "text/plain": [
       "{'product_id': '24454',\n",
       " 'product_name': 'Тушь для ресниц `LOREAL` TELESCOPIC (черная) удлиняющая',\n",
       " 'product_brand': 'LOREAL',\n",
       " 'product_url': ' https://www.podrygka.ru/catalog/makiyazh/glaza/tush/24454-tush_dlya_resnits_loreal_telescopic_chernaya_udlinyayushchaya/',\n",
       " 'product_price': 849.0,\n",
       " 'product_comment': 'Макияж/Глаза/Тушь'}"
      ]
     },
     "execution_count": 62,
     "metadata": {},
     "output_type": "execute_result"
    }
   ],
   "source": [
    "with open('data_podrygka.json', 'rb') as fp:\n",
    "    parsed_podrygka_data = json.load(fp)\n",
    "    \n",
    "parsed_podrygka_data[0]"
   ]
  },
  {
   "cell_type": "code",
   "execution_count": 64,
   "metadata": {},
   "outputs": [
    {
     "data": {
      "text/plain": [
       "('Тушь для ресниц `LOREAL` TELESCOPIC (черная) удлиняющая',\n",
       " 849.0,\n",
       " 'LOREAL',\n",
       " 'Макияж/Глаза/Тушь',\n",
       " '24454',\n",
       " ' https://www.podrygka.ru/catalog/makiyazh/glaza/tush/24454-tush_dlya_resnits_loreal_telescopic_chernaya_udlinyayushchaya/',\n",
       " datetime.date(2022, 11, 23),\n",
       " 'Подружка')"
      ]
     },
     "execution_count": 64,
     "metadata": {},
     "output_type": "execute_result"
    }
   ],
   "source": [
    "insert_podrygka = []\n",
    "for i in parsed_podrygka_data:\n",
    "    product_name = i['product_name']\n",
    "    price = i['product_price']\n",
    "    brand = i['product_brand']\n",
    "    comment = i['product_comment']\n",
    "    inside_code = i['product_id']\n",
    "    url = i['product_url']\n",
    "    source_seller = 'Подружка'\n",
    "    insert_podrygka.append((product_name, price, brand, comment, inside_code, url, date_acquired, source_seller))\n",
    "    \n",
    "insert_podrygka[0]"
   ]
  },
  {
   "cell_type": "code",
   "execution_count": 67,
   "metadata": {},
   "outputs": [],
   "source": [
    "data = insert_letu\n",
    "cur.executemany(\"INSERT INTO cosmetics VALUES(?, ?, ?, ?, ?, ?, ?, ?)\", data)\n",
    "con.commit()\n",
    "\n",
    "data = insert_gold_apple\n",
    "cur.executemany(\"INSERT INTO cosmetics VALUES(?, ?, ?, ?, ?, ?, ?, ?)\", data)\n",
    "con.commit()\n",
    "\n",
    "data = insert_rivegauche\n",
    "cur.executemany(\"INSERT INTO cosmetics VALUES(?, ?, ?, ?, ?, ?, ?, ?)\", data)\n",
    "con.commit()\n",
    "\n",
    "data = insert_iledebeaute\n",
    "cur.executemany(\"INSERT INTO cosmetics VALUES(?, ?, ?, ?, ?, ?, ?, ?)\", data)\n",
    "con.commit()\n",
    "\n",
    "data = insert_podrygka\n",
    "cur.executemany(\"INSERT INTO cosmetics VALUES(?, ?, ?, ?, ?, ?, ?, ?)\", data)\n",
    "con.commit()"
   ]
  },
  {
   "cell_type": "code",
   "execution_count": null,
   "metadata": {},
   "outputs": [],
   "source": [
    "con.close()"
   ]
  },
  {
   "cell_type": "code",
   "execution_count": null,
   "metadata": {},
   "outputs": [],
   "source": []
  },
  {
   "cell_type": "code",
   "execution_count": null,
   "metadata": {},
   "outputs": [],
   "source": []
  },
  {
   "cell_type": "code",
   "execution_count": null,
   "metadata": {},
   "outputs": [],
   "source": []
  },
  {
   "cell_type": "code",
   "execution_count": null,
   "metadata": {},
   "outputs": [],
   "source": []
  },
  {
   "cell_type": "code",
   "execution_count": null,
   "metadata": {},
   "outputs": [],
   "source": []
  },
  {
   "cell_type": "code",
   "execution_count": null,
   "metadata": {},
   "outputs": [],
   "source": [
    "# создание и тесты"
   ]
  },
  {
   "cell_type": "code",
   "execution_count": 10,
   "metadata": {
    "code_folding": []
   },
   "outputs": [
    {
     "data": {
      "text/plain": [
       "<sqlite3.Cursor at 0x1ec1087ed50>"
      ]
     },
     "execution_count": 10,
     "metadata": {},
     "output_type": "execute_result"
    }
   ],
   "source": [
    "# cur.execute(\"CREATE TABLE cosmetics(product_name, price, brand, comment, inside_code, url)\")\n"
   ]
  },
  {
   "cell_type": "code",
   "execution_count": 53,
   "metadata": {},
   "outputs": [
    {
     "data": {
      "text/plain": [
       "<sqlite3.Cursor at 0x1ec1087ed50>"
      ]
     },
     "execution_count": 53,
     "metadata": {},
     "output_type": "execute_result"
    }
   ],
   "source": [
    "# addColumn = \"ALTER TABLE cosmetics ADD COLUMN source_seller\"\n",
    "# cur.execute(addColumn)"
   ]
  },
  {
   "cell_type": "code",
   "execution_count": null,
   "metadata": {},
   "outputs": [],
   "source": [
    "data = [\n",
    "    (\"Monty Python Live at the Hollywood Bowl\", 1982, 7.9),\n",
    "    (\"Monty Python's The Meaning of Life\", 1983, 7.5),\n",
    "    (\"Monty Python's Life of Brian\", 1979, 8.0),\n",
    "]\n",
    "cur.executemany(\"INSERT INTO movie VALUES(?, ?, ?)\", data)\n",
    "con.commit()  # Remember to commit the transaction after executing INSERT."
   ]
  },
  {
   "cell_type": "code",
   "execution_count": 40,
   "metadata": {},
   "outputs": [
    {
     "data": {
      "text/plain": [
       "('cosmetics',)"
      ]
     },
     "execution_count": 40,
     "metadata": {},
     "output_type": "execute_result"
    }
   ],
   "source": [
    "# таблицы\n",
    "res = cur.execute(\"SELECT name FROM sqlite_master\")\n",
    "res.fetchone()"
   ]
  },
  {
   "cell_type": "code",
   "execution_count": null,
   "metadata": {},
   "outputs": [],
   "source": []
  }
 ],
 "metadata": {
  "hide_input": false,
  "kernelspec": {
   "display_name": "Python 3",
   "language": "python",
   "name": "python3"
  },
  "language_info": {
   "codemirror_mode": {
    "name": "ipython",
    "version": 3
   },
   "file_extension": ".py",
   "mimetype": "text/x-python",
   "name": "python",
   "nbconvert_exporter": "python",
   "pygments_lexer": "ipython3",
   "version": "3.7.3"
  },
  "toc": {
   "base_numbering": 1,
   "nav_menu": {},
   "number_sections": true,
   "sideBar": true,
   "skip_h1_title": false,
   "title_cell": "Table of Contents",
   "title_sidebar": "Contents",
   "toc_cell": false,
   "toc_position": {},
   "toc_section_display": true,
   "toc_window_display": false
  },
  "varInspector": {
   "cols": {
    "lenName": 16,
    "lenType": 16,
    "lenVar": 40
   },
   "kernels_config": {
    "python": {
     "delete_cmd_postfix": "",
     "delete_cmd_prefix": "del ",
     "library": "var_list.py",
     "varRefreshCmd": "print(var_dic_list())"
    },
    "r": {
     "delete_cmd_postfix": ") ",
     "delete_cmd_prefix": "rm(",
     "library": "var_list.r",
     "varRefreshCmd": "cat(var_dic_list()) "
    }
   },
   "types_to_exclude": [
    "module",
    "function",
    "builtin_function_or_method",
    "instance",
    "_Feature"
   ],
   "window_display": false
  }
 },
 "nbformat": 4,
 "nbformat_minor": 2
}
