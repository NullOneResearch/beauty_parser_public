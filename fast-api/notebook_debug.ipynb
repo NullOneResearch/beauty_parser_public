{
 "cells": [
  {
   "cell_type": "code",
   "execution_count": null,
   "metadata": {},
   "outputs": [],
   "source": [
    "# pushd \"B:\\folder for python files\\gitclone\\russian_beauty_parser\\fast-api\"\n",
    "# uvicorn main:app --reload"
   ]
  },
  {
   "cell_type": "code",
   "execution_count": null,
   "metadata": {},
   "outputs": [],
   "source": [
    "# для дебага - python main.py"
   ]
  },
  {
   "cell_type": "code",
   "execution_count": 1,
   "metadata": {},
   "outputs": [
    {
     "name": "stderr",
     "output_type": "stream",
     "text": [
      "B:\\python\\lib\\site-packages\\pandas\\compat\\_optional.py:138: UserWarning: Pandas requires version '2.7.0' or newer of 'numexpr' (version '2.6.9' currently installed).\n",
      "  warnings.warn(msg, UserWarning)\n"
     ]
    }
   ],
   "source": [
    "import database_operations.sql_db as sql_db_operator"
   ]
  },
  {
   "cell_type": "code",
   "execution_count": 2,
   "metadata": {
    "scrolled": true
   },
   "outputs": [
    {
     "data": {
      "text/plain": [
       "[('ВВ-крем для любого типа кожи тон 01',\n",
       "  399.0,\n",
       "  'ACHROMIN',\n",
       "  'Уход за лицом | 50 мл',\n",
       "  '112300030',\n",
       "  'https://www.letu.ru/product/achromin-vv-krem-dlya-lyubogo-tipa-kozhi-ton-01/112300030',\n",
       "  '2022-11-23',\n",
       "  'Летуаль'),\n",
       " ('ВВ-крем для любого типа кожи тон 02',\n",
       "  399.0,\n",
       "  'ACHROMIN',\n",
       "  'Уход за лицом | 50 мл',\n",
       "  '112300029',\n",
       "  'https://www.letu.ru/product/achromin-vv-krem-dlya-lyubogo-tipa-kozhi-ton-02/112300029',\n",
       "  '2022-11-23',\n",
       "  'Летуаль'),\n",
       " ('ВВ крем гиалуроновый ALL in ONE',\n",
       "  636.0,\n",
       "  'LIBREDERM',\n",
       "  'Уход за лицом | 50 мл',\n",
       "  '106800213',\n",
       "  'https://www.letu.ru/product/librederm-vv-krem-gialuronovyi-all-in-one/106800213',\n",
       "  '2022-11-23',\n",
       "  'Летуаль'),\n",
       " ('ВВ-крем Nude perfector с гиалуроновой кислотой',\n",
       "  538.0,\n",
       "  'BEAUTIFIC',\n",
       "  'Уход за лицом | №2 теплый бежевый, 30 мл',\n",
       "  '124900751',\n",
       "  'https://www.letu.ru/product/beautific-vv-krem-nude-perfector-s-gialuronovoi-kislotoi/124900751',\n",
       "  '2022-11-23',\n",
       "  'Летуаль'),\n",
       " ('Корейский BB крем в капсулах с эфирным маслом розы',\n",
       "  744.0,\n",
       "  'MISHIPY',\n",
       "  'BB&CC средства | 50 мл (30 капсул)',\n",
       "  '101000050',\n",
       "  'https://www.letu.ru/product/mishipy-koreiskii-bb-krem-v-kapsulah-s-efirnym-maslom-rozy/101000050',\n",
       "  '2022-11-23',\n",
       "  'Летуаль'),\n",
       " ('ББ-крем для лица Petit BB Aqua SPF25, матирующий',\n",
       "  576.0,\n",
       "  'HOLIKA HOLIKA',\n",
       "  'Уход за лицом | 30 мл',\n",
       "  '112200479',\n",
       "  'https://www.letu.ru/product/holika-holika-bb-krem-dlya-litsa-petit-bb-aqua-spf25-matiruyushchii/112200479',\n",
       "  '2022-11-23',\n",
       "  'Летуаль'),\n",
       " ('BB-крем So Bell',\n",
       "  476.0,\n",
       "  'LILO',\n",
       "  'BB&CC средства | Тон 01 Light',\n",
       "  '106300265',\n",
       "  'https://www.letu.ru/product/lilo-bb-krem-so-bell/106300265',\n",
       "  '2022-11-23',\n",
       "  'Летуаль'),\n",
       " ('BB-крем SPF 15',\n",
       "  741.0,\n",
       "  'LANDA BRANDA',\n",
       "  'BB&CC средства | 42 beige, 40 мл',\n",
       "  '118801383',\n",
       "  'https://www.letu.ru/product/landa-branda-bb-krem-spf-15/118801383',\n",
       "  '2022-11-23',\n",
       "  'Летуаль'),\n",
       " ('Ночной обновляющий крем с про-ретинолом',\n",
       "  449.0,\n",
       "  'GREEN MAMA',\n",
       "  'Уход за лицом | 75 мл',\n",
       "  '110900352',\n",
       "  'https://www.letu.ru/product/green-mama-nochnoi-obnovlyayushchii-krem-s-pro-retinolom/110900352',\n",
       "  '2022-11-23',\n",
       "  'Летуаль'),\n",
       " ('Кератозан 30 гель-крем для мозолистых образований и локализованных утолщений кожи',\n",
       "  1312.0,\n",
       "  'URIAGE',\n",
       "  'Уход за телом | 40 мл',\n",
       "  '122900047',\n",
       "  'https://www.letu.ru/product/uriage-keratozan-30-gel-krem-dlya-mozolistyh-obrazovanii-i-lokalizovannyh-utolshchenii-kozhi/122900047',\n",
       "  '2022-11-23',\n",
       "  'Летуаль')]"
      ]
     },
     "execution_count": 2,
     "metadata": {},
     "output_type": "execute_result"
    }
   ],
   "source": [
    "target_words = 'крем'\n",
    "sql_db_operator.get_data_from_db(target_words)[0:10]"
   ]
  },
  {
   "cell_type": "code",
   "execution_count": 3,
   "metadata": {},
   "outputs": [
    {
     "data": {
      "text/plain": [
       "'aaaaa'"
      ]
     },
     "execution_count": 3,
     "metadata": {},
     "output_type": "execute_result"
    }
   ],
   "source": [
    "'aaaAA'.lower()"
   ]
  },
  {
   "cell_type": "code",
   "execution_count": null,
   "metadata": {},
   "outputs": [],
   "source": []
  },
  {
   "cell_type": "code",
   "execution_count": null,
   "metadata": {},
   "outputs": [],
   "source": []
  },
  {
   "cell_type": "code",
   "execution_count": 23,
   "metadata": {},
   "outputs": [],
   "source": [
    "import sqlite3\n",
    "import json\n",
    "import pandas as pd\n",
    "from datetime import date\n",
    "from datetime import datetime\n",
    "import logging\n",
    "\n",
    "# скрипт с функциями обработчика БД\n",
    "# здесь же будет поисковый алгоритм, нужны доп проверки на соответствия брендам и всему такому\n",
    "# крч нужны более сложные sql-запросы, пока оставил для теста максимально изичный\n",
    "\n",
    "# 'product_name', 'price', 'brand', 'comment', 'inside_code', 'url', 'date_acquired', 'source_seller'\n",
    "\n",
    "def get_db_and_date():\n",
    "    logging.basicConfig(filename='database_operations/logs_db.json', filemode='a+', level=logging.INFO)\n",
    "    logger = logging.getLogger()\n",
    "\n",
    "    path_to_folder = \"B:/folder for python files/gitclone/russian_beauty_parser/main/parsers/database/\"\n",
    "    con = sqlite3.connect(path_to_folder+\"sql_dbs/russian_beauty_parser.db\")\n",
    "\n",
    "    cur = con.cursor()\n",
    "\n",
    "    date_acquired = date.today()\n",
    "\n",
    "    return con, cur, date_acquired, logger\n",
    "\n",
    "def get_data_from_db(target_words):\n",
    "    # здесб надо будет прикрутить алгоритм поиска, но пока просто работа со строгим запросом\n",
    "    con, cur, date_acquired, logger = get_db_and_date()\n",
    "\n",
    "    product_name = \"%\"+str(target_words)+\"%\"\n",
    "    #product_name = product_name.lower()\n",
    "\n",
    "    now = datetime.now()\n",
    "    logger.info(\"new request: {%s}\", (product_name, str(now)))\n",
    "\n",
    "    #cur.execute(\"SELECT * FROM cosmetics WHERE product_name like '\"+product_name+\"' or product_name like '\"+product_name+\"' or product_name like '\"+product_name+\"';\")\n",
    "    \n",
    "    cur.execute('''SELECT * FROM cosmetics WHERE \n",
    "    lower(product_name) like lower(?) \n",
    "    or lower(brand) like lower(?) \n",
    "    or lower(comment) like lower(?);''', [product_name, product_name, product_name])\n",
    "    \n",
    "    #cur.execute(\"SELECT * FROM cosmetics WHERE lower(product_name) like lower(?);\", [product_name])\n",
    "    #cur.execute(\"SELECT * FROM cosmetics WHERE lower(brand) like lower(?);\", [product_name])\n",
    "    #cur.execute(\"SELECT * FROM cosmetics WHERE lower(comment) like lower(?);\", [product_name])\n",
    "\n",
    "    data = cur.fetchall()\n",
    "    return data"
   ]
  },
  {
   "cell_type": "code",
   "execution_count": 22,
   "metadata": {},
   "outputs": [
    {
     "data": {
      "text/plain": [
       "3174"
      ]
     },
     "execution_count": 22,
     "metadata": {},
     "output_type": "execute_result"
    }
   ],
   "source": [
    "# ошибка воспроизводима, трабл не у апишки\n",
    "target_words = 'крем'\n",
    "len(get_data_from_db(target_words))"
   ]
  },
  {
   "cell_type": "code",
   "execution_count": 29,
   "metadata": {
    "scrolled": true
   },
   "outputs": [
    {
     "data": {
      "text/plain": [
       "49"
      ]
     },
     "execution_count": 29,
     "metadata": {},
     "output_type": "execute_result"
    }
   ],
   "source": [
    "target_words = 'ACHROMIN'\n",
    "len(get_data_from_db(target_words))"
   ]
  },
  {
   "cell_type": "code",
   "execution_count": null,
   "metadata": {},
   "outputs": [],
   "source": []
  }
 ],
 "metadata": {
  "hide_input": false,
  "kernelspec": {
   "display_name": "Python 3",
   "language": "python",
   "name": "python3"
  },
  "language_info": {
   "codemirror_mode": {
    "name": "ipython",
    "version": 3
   },
   "file_extension": ".py",
   "mimetype": "text/x-python",
   "name": "python",
   "nbconvert_exporter": "python",
   "pygments_lexer": "ipython3",
   "version": "3.7.3"
  },
  "toc": {
   "base_numbering": 1,
   "nav_menu": {},
   "number_sections": true,
   "sideBar": true,
   "skip_h1_title": false,
   "title_cell": "Table of Contents",
   "title_sidebar": "Contents",
   "toc_cell": false,
   "toc_position": {},
   "toc_section_display": true,
   "toc_window_display": false
  },
  "varInspector": {
   "cols": {
    "lenName": 16,
    "lenType": 16,
    "lenVar": 40
   },
   "kernels_config": {
    "python": {
     "delete_cmd_postfix": "",
     "delete_cmd_prefix": "del ",
     "library": "var_list.py",
     "varRefreshCmd": "print(var_dic_list())"
    },
    "r": {
     "delete_cmd_postfix": ") ",
     "delete_cmd_prefix": "rm(",
     "library": "var_list.r",
     "varRefreshCmd": "cat(var_dic_list()) "
    }
   },
   "types_to_exclude": [
    "module",
    "function",
    "builtin_function_or_method",
    "instance",
    "_Feature"
   ],
   "window_display": false
  }
 },
 "nbformat": 4,
 "nbformat_minor": 2
}
